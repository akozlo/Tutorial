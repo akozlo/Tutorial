{
 "cells": [
  {
   "cell_type": "markdown",
   "metadata": {},
   "source": [
    "# Word Embeddings Exercises\n",
    "\n",
    "\n",
    "\n",
    "For this notebook we will be using the following packages"
   ]
  },
  {
   "cell_type": "code",
   "execution_count": 169,
   "metadata": {
    "collapsed": false
   },
   "outputs": [],
   "source": [
    "#All these packages need to be installed from pip\n",
    "import gensim#For word2vec, etc\n",
    "import requests #For downloading our datasets\n",
    "import nltk #For stop words and stemmers\n",
    "import numpy as np #For arrays\n",
    "import pandas #Gives us DataFrames\n",
    "import matplotlib.pyplot as plt #For graphics\n",
    "#import seaborn #Makes the graphics look nicer\n",
    "import sklearn.metrics.pairwise #For cosine similarity\n",
    "import sklearn.manifold #For T-SNE\n",
    "import sklearn.decomposition #For PCA\n",
    "\n",
    "#This 'magic' command makes the plots work better\n",
    "#in the notebook, don't use it outside of a notebook.\n",
    "#Also you can ignore the warning\n",
    "%matplotlib inline\n",
    "\n",
    "import os #For looking through files\n",
    "import os.path #For managing file paths"
   ]
  },
  {
   "cell_type": "markdown",
   "metadata": {},
   "source": [
    "#Define some functions"
   ]
  },
  {
   "cell_type": "markdown",
   "metadata": {
    "collapsed": true
   },
   "source": [
    "def normlizeTokens(tokenLst, stopwordLst = None, stemmer = None, lemmer = None, vocab = None):\n",
    "    #We can use a generator here as we just need to iterate over it\n",
    "\n",
    "    #Lowering the case and removing non-words\n",
    "    workingIter = (w.lower() for w in tokenLst if w.isalpha())\n",
    "\n",
    "    #Now we can use the semmer, if provided\n",
    "    if stemmer is not None:\n",
    "        workingIter = (stemmer.stem(w) for w in workingIter)\n",
    "\n",
    "    #And the lemmer\n",
    "    if lemmer is not None:\n",
    "        workingIter = (lemmer.lemmatize(w) for w in workingIter)\n",
    "\n",
    "    #And remove the stopwords\n",
    "    if stopwordLst is not None:\n",
    "        workingIter = (w for w in workingIter if w not in stopwordLst)\n",
    "        \n",
    "    #We will return a list with the stopwords removed\n",
    "    if vocab is not None:\n",
    "        vocab_str = '|'.join(vocab)\n",
    "        workingIter = (w for w in workingIter if re.match(vocab_str, w))\n",
    "    \n",
    "    return list(workingIter)\n",
    "\n",
    "#initialize our stemmer and our stop words\n",
    "stop_words_nltk = nltk.corpus.stopwords.words('english')\n",
    "snowball = nltk.stem.snowball.SnowballStemmer('english')\n",
    "wordnet = nltk.stem.WordNetLemmatizer()\n"
   ]
  },
  {
   "cell_type": "markdown",
   "metadata": {},
   "source": [
    "# Physics Abstracts Example"
   ]
  },
  {
   "cell_type": "markdown",
   "metadata": {},
   "source": [
    "#Load in the Physics Abstracts:"
   ]
  },
  {
   "cell_type": "code",
   "execution_count": 171,
   "metadata": {
    "collapsed": false
   },
   "outputs": [
    {
     "data": {
      "text/html": [
       "<div>\n",
       "<table border=\"1\" class=\"dataframe\">\n",
       "  <thead>\n",
       "    <tr style=\"text-align: right;\">\n",
       "      <th></th>\n",
       "      <th>copyrightYear</th>\n",
       "      <th>doi</th>\n",
       "      <th>abstract</th>\n",
       "    </tr>\n",
       "  </thead>\n",
       "  <tbody>\n",
       "    <tr>\n",
       "      <th>0</th>\n",
       "      <td>1950</td>\n",
       "      <td>10.1103/RevModPhys.22.221</td>\n",
       "      <td>A summarizing account is given of the research...</td>\n",
       "    </tr>\n",
       "    <tr>\n",
       "      <th>1</th>\n",
       "      <td>1951</td>\n",
       "      <td>10.1103/RevModPhys.23.147</td>\n",
       "      <td>New tables of coulomb functions are presented ...</td>\n",
       "    </tr>\n",
       "    <tr>\n",
       "      <th>2</th>\n",
       "      <td>1951</td>\n",
       "      <td>10.1103/RevModPhys.23.185</td>\n",
       "      <td>Ionization by electron impact in diatomic gase...</td>\n",
       "    </tr>\n",
       "    <tr>\n",
       "      <th>3</th>\n",
       "      <td>1951</td>\n",
       "      <td>10.1103/RevModPhys.23.203</td>\n",
       "      <td>It is shown that the conductivity in the ohmic...</td>\n",
       "    </tr>\n",
       "    <tr>\n",
       "      <th>4</th>\n",
       "      <td>1951</td>\n",
       "      <td>10.1103/RevModPhys.23.21</td>\n",
       "      <td>The factorization method is an operational pro...</td>\n",
       "    </tr>\n",
       "    <tr>\n",
       "      <th>5</th>\n",
       "      <td>1951</td>\n",
       "      <td>10.1103/RevModPhys.23.311</td>\n",
       "      <td>A brief account is given of Dyson's proof of t...</td>\n",
       "    </tr>\n",
       "    <tr>\n",
       "      <th>6</th>\n",
       "      <td>1951</td>\n",
       "      <td>10.1103/RevModPhys.23.315</td>\n",
       "      <td>A systematics is given of all transitions for ...</td>\n",
       "    </tr>\n",
       "    <tr>\n",
       "      <th>7</th>\n",
       "      <td>1951</td>\n",
       "      <td>10.1103/RevModPhys.23.322</td>\n",
       "      <td>A systematics of the -transitions of even A nu...</td>\n",
       "    </tr>\n",
       "    <tr>\n",
       "      <th>8</th>\n",
       "      <td>1951</td>\n",
       "      <td>10.1103/RevModPhys.23.328</td>\n",
       "      <td>The available experiments on the absorption sp...</td>\n",
       "    </tr>\n",
       "    <tr>\n",
       "      <th>9</th>\n",
       "      <td>1952</td>\n",
       "      <td>10.1103/RevModPhys.24.108</td>\n",
       "      <td>The classical theory of the dynamics of viscou...</td>\n",
       "    </tr>\n",
       "  </tbody>\n",
       "</table>\n",
       "</div>"
      ],
      "text/plain": [
       "   copyrightYear                        doi  \\\n",
       "0           1950  10.1103/RevModPhys.22.221   \n",
       "1           1951  10.1103/RevModPhys.23.147   \n",
       "2           1951  10.1103/RevModPhys.23.185   \n",
       "3           1951  10.1103/RevModPhys.23.203   \n",
       "4           1951   10.1103/RevModPhys.23.21   \n",
       "5           1951  10.1103/RevModPhys.23.311   \n",
       "6           1951  10.1103/RevModPhys.23.315   \n",
       "7           1951  10.1103/RevModPhys.23.322   \n",
       "8           1951  10.1103/RevModPhys.23.328   \n",
       "9           1952  10.1103/RevModPhys.24.108   \n",
       "\n",
       "                                            abstract  \n",
       "0  A summarizing account is given of the research...  \n",
       "1  New tables of coulomb functions are presented ...  \n",
       "2  Ionization by electron impact in diatomic gase...  \n",
       "3  It is shown that the conductivity in the ohmic...  \n",
       "4  The factorization method is an operational pro...  \n",
       "5  A brief account is given of Dyson's proof of t...  \n",
       "6  A systematics is given of all transitions for ...  \n",
       "7  A systematics of the -transitions of even A nu...  \n",
       "8  The available experiments on the absorption sp...  \n",
       "9  The classical theory of the dynamics of viscou...  "
      ]
     },
     "execution_count": 171,
     "metadata": {},
     "output_type": "execute_result"
    }
   ],
   "source": [
    "apsDF = pandas.read_csv('data/APSabstracts1950s.csv', index_col = 0)\n",
    "apsDF[:10]"
   ]
  },
  {
   "cell_type": "code",
   "execution_count": 172,
   "metadata": {
    "collapsed": false
   },
   "outputs": [],
   "source": [
    "keywords = ['photomagnetoelectric', 'quantum', 'boltzmann', 'proton', 'positron', 'feynman', 'classical', 'relativity']"
   ]
  },
  {
   "cell_type": "code",
   "execution_count": 173,
   "metadata": {
    "collapsed": false
   },
   "outputs": [],
   "source": [
    "apsDF['tokenized_words'] = apsDF['abstract'].apply(lambda x: nltk.word_tokenize(x))\n",
    "apsDF['normalized_words'] = apsDF['tokenized_words'].apply(lambda x: normlizeTokens(x, stopwordLst = stop_words_nltk))"
   ]
  },
  {
   "cell_type": "code",
   "execution_count": 174,
   "metadata": {
    "collapsed": false
   },
   "outputs": [],
   "source": [
    "taggedDocs = []\n",
    "for index, row in apsDF.iterrows():\n",
    "    #Just doing a simple keyword assignment\n",
    "    docKeywords = [s for s in keywords if s in row['normalized_words']]\n",
    "    docKeywords.append(row['copyrightYear'])\n",
    "    docKeywords.append(row['doi']) #This lets us extract individual documents since doi's are unique\n",
    "    taggedDocs.append(gensim.models.doc2vec.LabeledSentence(words = row['normalized_words'], tags = docKeywords))\n",
    "apsDF['TaggedAbstracts'] = taggedDocs"
   ]
  },
  {
   "cell_type": "markdown",
   "metadata": {},
   "source": [
    "Now we can train a Doc2Vec model:"
   ]
  },
  {
   "cell_type": "code",
   "execution_count": 175,
   "metadata": {
    "collapsed": false
   },
   "outputs": [],
   "source": [
    "apsD2V = gensim.models.doc2vec.Doc2Vec(apsDF['TaggedAbstracts'], size = 300) #Limiting to 100 dimensions"
   ]
  },
  {
   "cell_type": "markdown",
   "metadata": {},
   "source": [
    "We can get vectors for the tags/documents, just as we did with words. Documents are actually the centroids (high dimensional average points) of their words. "
   ]
  },
  {
   "cell_type": "code",
   "execution_count": 176,
   "metadata": {
    "collapsed": false,
    "scrolled": true
   },
   "outputs": [
    {
     "data": {
      "text/plain": [
       "array([ -1.95653006e-01,  -5.92306495e-01,  -1.29207354e-02,\n",
       "        -1.53604457e-02,   4.28662121e-01,   9.09425735e-01,\n",
       "        -4.89403069e-01,   4.89685535e-01,  -4.19765562e-01,\n",
       "         6.70167387e-01,  -5.44113144e-02,   3.44074547e-01,\n",
       "         2.21715346e-01,   2.36408323e-01,  -3.70887816e-01,\n",
       "        -2.96005905e-01,   5.23761332e-01,  -5.19061506e-01,\n",
       "        -8.92517507e-01,   5.05300403e-01,   3.32882367e-02,\n",
       "        -1.02673936e+00,   5.65571666e-01,   7.95341134e-02,\n",
       "        -8.25595021e-01,   1.43640625e+00,  -6.18587136e-02,\n",
       "         9.69832480e-01,  -9.42612290e-02,  -9.30305719e-01,\n",
       "        -6.66888773e-01,  -4.22725171e-01,   1.98421195e-01,\n",
       "         4.95128572e-01,  -3.06392163e-01,  -2.10814372e-01,\n",
       "         3.38922650e-01,   8.68928850e-01,   9.25914466e-01,\n",
       "         2.58255333e-01,   5.36875367e-01,   3.63547772e-01,\n",
       "        -2.98454136e-01,  -2.90146798e-01,   1.96585581e-02,\n",
       "         1.69004902e-01,   5.07543445e-01,  -3.27224821e-01,\n",
       "         1.65212944e-01,  -1.00691967e-01,  -8.21526945e-01,\n",
       "         6.99304283e-01,  -4.99052078e-01,  -5.74330166e-02,\n",
       "         3.17534298e-01,   4.59259659e-01,   1.08943850e-01,\n",
       "        -8.14340293e-01,   9.07044291e-01,   6.58165455e-01,\n",
       "         1.14147412e-03,   7.09957361e-01,  -9.19824004e-01,\n",
       "         1.98956318e-02,  -4.05271202e-01,  -1.80471361e-01,\n",
       "        -6.52188718e-01,   6.09245121e-01,   2.04797253e-01,\n",
       "        -1.38486847e-01,   5.50797582e-01,   7.07194269e-01,\n",
       "        -3.24500024e-01,   3.81730422e-02,   9.99974191e-01,\n",
       "         1.70546189e-01,   8.75323355e-01,  -1.24130249e-01,\n",
       "        -1.72649920e-01,  -5.46789289e-01,   6.81960285e-01,\n",
       "        -2.09782377e-01,   1.16285956e+00,   7.73290694e-01,\n",
       "        -8.27946603e-01,   8.32358062e-01,  -2.94326127e-01,\n",
       "        -4.93915617e-01,  -6.91234469e-01,   2.90005386e-01,\n",
       "         1.80271327e-01,  -8.44639063e-01,  -6.88395262e-01,\n",
       "        -5.48929036e-01,  -6.36096776e-01,   2.91364551e-01,\n",
       "         8.22420180e-01,  -6.24287367e-01,   2.06490327e-02,\n",
       "        -1.44288391e-01,   5.66534340e-01,   1.66823715e-01,\n",
       "        -4.21373278e-01,   4.49917853e-01,  -1.99022904e-01,\n",
       "        -8.56699467e-01,   9.09565836e-02,  -4.70497042e-01,\n",
       "        -1.74903125e-01,  -6.01647973e-01,  -6.74209446e-02,\n",
       "        -5.84908605e-01,   8.76579046e-01,   3.87803793e-01,\n",
       "        -5.10896564e-01,   7.68425524e-01,   7.47585118e-01,\n",
       "        -5.82761467e-01,  -2.67570037e-02,   4.10997719e-01,\n",
       "        -1.20981026e+00,   2.86441773e-01,  -6.17843211e-01,\n",
       "        -7.12967694e-01,  -7.95034289e-01,  -4.42628443e-01,\n",
       "         4.60571319e-01,   9.70644653e-02,   1.98483795e-01,\n",
       "        -5.64107060e-01,   3.55697840e-01,  -5.05527377e-01,\n",
       "         8.42415392e-01,   3.63597274e-01,   7.42998540e-01,\n",
       "         6.59769416e-01,   2.41639197e-01,   2.68313557e-01,\n",
       "        -4.56792921e-01,  -5.22111952e-01,   5.25493681e-01,\n",
       "        -1.97276175e-01,  -3.61094803e-01,  -3.95291112e-02,\n",
       "         1.96123302e-01,  -4.75522429e-01,   8.46762240e-01,\n",
       "        -3.72347943e-02,   4.07106847e-01,   1.41784921e-01,\n",
       "         1.45056486e-01,   8.41639459e-01,  -1.31142184e-01,\n",
       "         2.75926590e-01,  -4.25828341e-03,  -5.12317896e-01,\n",
       "         4.12717104e-01,  -6.56334162e-01,   1.28130674e+00,\n",
       "        -7.42707133e-01,  -2.69408137e-01,   5.28208837e-02,\n",
       "        -1.00070365e-01,   5.85369766e-02,   2.28414834e-01,\n",
       "         1.03608198e-01,   6.91064447e-02,  -4.09508556e-01,\n",
       "         8.54121089e-01,   6.03197515e-01,   4.59644705e-01,\n",
       "        -3.64156485e-01,  -1.11471319e+00,   3.30429286e-01,\n",
       "         4.04928923e-01,   8.14161837e-01,   5.69546521e-01,\n",
       "         3.62046659e-02,  -1.39102399e-01,   8.25409770e-01,\n",
       "        -5.21418080e-03,   1.92668743e-03,  -3.10991824e-01,\n",
       "        -6.14195883e-01,   5.23572862e-01,   2.33530536e-01,\n",
       "         1.29123199e+00,  -1.79573387e-01,   1.51678696e-02,\n",
       "         6.36325240e-01,   4.38733160e-01,   1.27664298e-01,\n",
       "         3.77693437e-02,   3.05067092e-01,  -6.54673755e-01,\n",
       "         7.63202235e-02,   3.26949388e-01,   2.41180629e-01,\n",
       "        -3.71357024e-01,   6.85110867e-01,   1.42390102e-01,\n",
       "         5.35357893e-01,   3.27644408e-01,  -8.46030533e-01,\n",
       "         6.44575894e-01,   5.98739326e-01,   2.59701759e-01,\n",
       "         3.19019645e-01,   5.01473188e-01,   3.66654128e-01,\n",
       "        -2.74616420e-01,   1.04436779e+00,  -8.05782199e-01,\n",
       "        -6.07359409e-01,   4.99996364e-01,   2.56681610e-02,\n",
       "         4.36935008e-01,  -4.64795560e-01,  -4.22034591e-01,\n",
       "        -9.21920091e-02,   4.56777066e-01,   2.84876198e-01,\n",
       "        -1.00682616e-01,  -6.07345939e-01,  -5.09411097e-01,\n",
       "        -4.96645361e-01,   7.51140893e-01,  -1.73316136e-01,\n",
       "        -2.48110309e-01,   1.26666650e-01,  -3.01938772e-01,\n",
       "         4.64796871e-01,   3.80964607e-01,   4.47054990e-02,\n",
       "         7.43201137e-01,   5.81710696e-01,  -4.69192624e-01,\n",
       "        -4.12338048e-01,  -5.68356335e-01,  -4.68273401e-01,\n",
       "        -4.25876677e-01,   8.68977129e-01,  -2.57384717e-01,\n",
       "        -9.65365395e-02,  -6.42163754e-01,  -4.09288704e-01,\n",
       "         7.56364942e-01,  -7.41307974e-01,  -1.01673573e-01,\n",
       "         2.75683552e-01,  -1.85222581e-01,  -3.13844144e-01,\n",
       "         2.08435908e-01,  -1.79112684e-02,   9.55162048e-01,\n",
       "         1.15462601e-01,   5.63032925e-01,  -1.12533877e-02,\n",
       "        -1.73608512e-02,   2.19604194e-01,  -4.33231443e-01,\n",
       "        -3.41911167e-02,  -2.49776706e-01,  -2.27850825e-01,\n",
       "        -6.14037275e-01,  -4.00541306e-01,  -2.22023934e-01,\n",
       "         6.54162765e-01,  -8.18938732e-01,  -2.14513317e-01,\n",
       "         3.56997788e-01,   5.88024020e-01,   4.96505946e-03,\n",
       "        -6.51772022e-01,  -1.96889430e-01,   4.68681782e-01,\n",
       "        -3.48107755e-01,   4.32504505e-01,   1.12749107e-01,\n",
       "         1.21578954e-01,   1.39531329e-01,  -2.13815361e-01,\n",
       "         1.97114125e-01,   1.02806203e-01,  -6.80535078e-01,\n",
       "        -9.93088856e-02,   9.04916346e-01,   2.68110693e-01,\n",
       "         5.28046079e-02,  -4.45641339e-01,   2.18878299e-01,\n",
       "        -2.51095802e-01,  -2.86244154e-01,   8.47324908e-01,\n",
       "        -7.83029079e-01,   6.26503170e-01,  -4.10301358e-01,\n",
       "        -4.15963531e-02,   5.16901553e-01,   7.79103160e-01], dtype=float32)"
      ]
     },
     "execution_count": 176,
     "metadata": {},
     "output_type": "execute_result"
    }
   ],
   "source": [
    "apsD2V.docvecs[1952]"
   ]
  },
  {
   "cell_type": "markdown",
   "metadata": {},
   "source": [
    "The words can still be accessed in the same way:"
   ]
  },
  {
   "cell_type": "code",
   "execution_count": 177,
   "metadata": {
    "collapsed": false
   },
   "outputs": [
    {
     "data": {
      "text/plain": [
       "array([  9.61767510e-02,   2.42272466e-01,  -1.26940548e-01,\n",
       "        -4.06696618e-01,   7.43944496e-02,   1.71439692e-01,\n",
       "        -4.70122099e-01,   1.25194803e-01,  -3.34290653e-01,\n",
       "        -1.01473480e-01,  -3.99845205e-02,  -2.61299219e-02,\n",
       "        -6.33912683e-01,   3.12294155e-01,  -3.94866467e-01,\n",
       "         1.30879551e-01,   1.05886430e-01,   1.42680749e-01,\n",
       "        -9.74310935e-02,  -4.39740531e-02,   2.41558209e-01,\n",
       "        -2.34916300e-01,  -4.46478613e-02,  -1.55807361e-01,\n",
       "        -5.35913706e-01,  -1.55867487e-02,   2.10038230e-01,\n",
       "         4.49849129e-01,   5.91007471e-02,  -7.44550347e-01,\n",
       "         5.40691257e-01,   2.07541481e-01,   2.62720585e-02,\n",
       "         2.07182899e-01,   1.06483303e-01,   2.73832470e-01,\n",
       "        -3.40922385e-01,  -2.31558899e-03,   2.02420741e-01,\n",
       "         3.23611289e-01,  -8.99529979e-02,   1.30799860e-01,\n",
       "        -6.77862987e-02,  -2.15453535e-01,   2.56186485e-01,\n",
       "         3.07812005e-01,   3.62689525e-01,  -9.56939533e-02,\n",
       "         8.43834803e-02,   2.24527612e-01,  -2.44487748e-01,\n",
       "        -4.34641633e-03,  -5.37239075e-01,   9.24397781e-02,\n",
       "         1.27932876e-01,   1.00283753e-02,  -2.79206783e-01,\n",
       "        -2.54099876e-01,  -6.57631382e-02,   7.06433594e-01,\n",
       "         2.39402596e-02,   1.14705317e-01,  -2.51838237e-01,\n",
       "         1.71166405e-01,  -1.68023363e-01,   2.29211763e-01,\n",
       "         1.59197107e-01,   2.53671169e-01,   5.44659674e-01,\n",
       "         1.09772205e-01,   3.04613322e-01,   4.01507676e-01,\n",
       "        -1.75740078e-01,  -2.58265942e-01,   3.48344594e-01,\n",
       "        -7.53050437e-03,   7.47439742e-01,   3.33163738e-01,\n",
       "         2.47511953e-01,  -1.17251508e-01,   6.02807462e-01,\n",
       "        -2.28851974e-01,  -3.39350373e-01,  -7.21357092e-02,\n",
       "         4.49672699e-01,   5.65808177e-01,  -1.38564050e-01,\n",
       "        -4.21078205e-01,  -1.97647020e-01,   1.43466935e-01,\n",
       "         6.59756660e-02,  -1.15988709e-01,   3.33798975e-02,\n",
       "        -1.50674209e-01,  -2.54670858e-01,   2.97806442e-01,\n",
       "         2.82480299e-01,  -1.60023063e-01,   6.28636777e-02,\n",
       "         5.04559934e-01,   1.41168516e-02,  -1.32692888e-01,\n",
       "         8.45248699e-02,   9.53739882e-02,   4.85793576e-02,\n",
       "        -1.87938482e-01,  -1.54676139e-01,  -1.77856758e-01,\n",
       "         3.67240757e-02,   1.08824603e-01,  -8.61422867e-02,\n",
       "        -1.24765731e-01,  -6.88772723e-02,   5.31752110e-01,\n",
       "        -4.37311195e-02,   3.40870798e-01,   1.04018770e-01,\n",
       "        -4.57488239e-01,  -2.06680164e-01,   9.78984982e-02,\n",
       "        -4.41379100e-01,  -1.65950865e-01,  -1.20445393e-01,\n",
       "        -1.62532523e-01,  -1.83389023e-01,  -5.53114265e-02,\n",
       "        -6.61734045e-02,   9.60025191e-02,  -2.37506449e-01,\n",
       "        -5.00317037e-01,   7.28414834e-01,   1.77970827e-02,\n",
       "         5.29269636e-01,  -1.94057487e-02,   2.45785579e-01,\n",
       "        -2.53786236e-01,   4.36372936e-01,  -1.49745002e-01,\n",
       "        -5.85748076e-01,  -4.40792032e-02,  -8.31655338e-02,\n",
       "        -3.63409609e-01,   1.47034615e-01,  -1.21443927e-01,\n",
       "        -1.82056502e-01,  -1.01992190e-01,   4.65509862e-01,\n",
       "         2.39780173e-01,   6.66669831e-02,   8.61827377e-03,\n",
       "        -1.70352712e-01,   2.08436653e-01,  -6.92066550e-02,\n",
       "         3.96906435e-01,  -4.77405906e-01,   1.55301630e-01,\n",
       "         2.43078336e-01,  -7.01861680e-01,   4.17938560e-01,\n",
       "        -9.78123322e-02,  -1.85899228e-01,   4.43922766e-02,\n",
       "         8.45210925e-02,  -1.62785694e-01,   1.49201974e-01,\n",
       "         1.66554153e-02,   1.62640408e-01,   2.58027822e-01,\n",
       "         2.05506369e-01,  -2.74834394e-01,  -8.51225480e-02,\n",
       "        -4.08897877e-01,  -8.64884332e-02,  -3.27149957e-01,\n",
       "         1.98837608e-01,  -1.76066548e-01,   3.29868734e-01,\n",
       "        -9.37014669e-02,   1.94867589e-02,   2.18507946e-01,\n",
       "         2.30430022e-01,  -6.03645593e-02,  -3.57440293e-01,\n",
       "        -3.69419307e-02,   5.57528079e-01,   1.13665581e-01,\n",
       "        -1.76480915e-02,   1.01071648e-01,  -2.53803525e-02,\n",
       "         6.73184842e-02,  -1.27745256e-01,   3.54689360e-01,\n",
       "         2.67956764e-01,   1.85650364e-01,  -2.14301869e-01,\n",
       "         2.85119772e-01,   7.15413243e-02,  -3.64501327e-01,\n",
       "         3.43045771e-01,  -1.68442726e-02,  -1.73469171e-01,\n",
       "         2.58292526e-01,   3.36790502e-01,  -1.83769390e-01,\n",
       "         4.47200030e-01,   6.15553893e-02,   5.54554045e-01,\n",
       "         3.01920384e-01,   3.18256944e-01,   3.45208526e-01,\n",
       "        -3.40504199e-01,   1.40039846e-01,  -4.76101696e-01,\n",
       "        -2.68607110e-01,   1.20462194e-01,  -3.50186884e-01,\n",
       "        -2.48643290e-02,  -8.07955742e-01,  -3.70539099e-01,\n",
       "         3.66266340e-01,  -1.95182845e-01,   3.78707916e-01,\n",
       "         2.94959456e-01,  -4.85758692e-01,   5.97805753e-02,\n",
       "        -2.15444997e-01,   2.01261025e-02,  -2.07459088e-02,\n",
       "        -4.39473331e-01,   1.89823151e-01,  -1.40127148e-02,\n",
       "        -2.31963411e-01,   5.89440716e-03,   4.41318572e-01,\n",
       "         2.08401039e-01,  -4.12455946e-02,  -1.65475234e-01,\n",
       "        -3.62862319e-01,  -3.53178710e-01,   2.57786959e-01,\n",
       "        -2.18368605e-01,   3.20429176e-01,   5.54955065e-01,\n",
       "         8.85930285e-02,  -3.82921733e-02,  -1.93618014e-01,\n",
       "         1.94564238e-01,  -1.36798024e-01,   4.97784108e-01,\n",
       "         2.88788646e-01,  -7.71668926e-02,  -9.97889340e-02,\n",
       "         2.27432892e-01,   9.46375309e-04,   1.23551987e-01,\n",
       "        -3.33428353e-01,   1.47022530e-01,  -3.52463648e-02,\n",
       "        -2.28282899e-01,   9.50146541e-02,   6.41375631e-02,\n",
       "        -3.46786268e-02,   3.91172975e-01,   1.99847415e-01,\n",
       "        -2.84675151e-01,  -1.37898773e-01,  -2.33693615e-01,\n",
       "         2.54170150e-01,   9.59434211e-02,  -1.87538669e-01,\n",
       "         9.60942030e-01,   3.51563632e-01,   4.04966056e-01,\n",
       "        -6.92824662e-01,  -9.56181064e-02,   3.12174466e-02,\n",
       "        -2.21827850e-01,   1.37154147e-01,   8.09807424e-03,\n",
       "        -3.65355134e-01,  -1.58398390e-01,  -4.74352837e-02,\n",
       "         1.59570709e-01,  -1.96078092e-01,  -1.81516096e-01,\n",
       "         1.69235319e-01,   2.56218880e-01,   1.79780647e-01,\n",
       "        -1.08678434e-02,   4.21455018e-02,  -4.05236334e-01,\n",
       "        -5.57982847e-02,  -1.39215603e-01,   1.40467197e-01,\n",
       "        -1.35609984e-01,   4.33297694e-01,  -3.92312706e-02,\n",
       "         1.63144115e-02,   3.10592473e-01,   3.75817925e-01], dtype=float32)"
      ]
     },
     "execution_count": 177,
     "metadata": {},
     "output_type": "execute_result"
    }
   ],
   "source": [
    "apsD2V['atom']"
   ]
  },
  {
   "cell_type": "markdown",
   "metadata": {},
   "source": [
    "We can still use the ``most_similar`` command to perform simple semantic equations:"
   ]
  },
  {
   "cell_type": "code",
   "execution_count": 179,
   "metadata": {
    "collapsed": false
   },
   "outputs": [
    {
     "data": {
      "text/plain": [
       "[('integral', 0.9595840573310852),\n",
       " ('grand', 0.9579411149024963),\n",
       " ('liouville', 0.9482520818710327),\n",
       " ('expansion', 0.9472519159317017),\n",
       " ('fourier', 0.9453361630439758),\n",
       " ('boltzmann', 0.9436877369880676),\n",
       " ('solved', 0.943208634853363),\n",
       " ('schrdinger', 0.9398786425590515),\n",
       " ('eigenfunction', 0.9379158020019531),\n",
       " ('expresses', 0.9360965490341187)]"
      ]
     },
     "execution_count": 179,
     "metadata": {},
     "output_type": "execute_result"
    }
   ],
   "source": [
    "apsD2V.most_similar('equation', topn = 10)"
   ]
  },
  {
   "cell_type": "code",
   "execution_count": 180,
   "metadata": {
    "collapsed": false
   },
   "outputs": [
    {
     "data": {
      "text/plain": [
       "[('call', 0.8059724569320679),\n",
       " ('electrons', 0.7979356646537781),\n",
       " ('radiate', 0.7919137477874756),\n",
       " ('harmonically', 0.7783881425857544),\n",
       " ('dense', 0.7770719528198242),\n",
       " ('stream', 0.7750252485275269),\n",
       " ('interpenetrating', 0.7660356163978577),\n",
       " ('continually', 0.7609418034553528),\n",
       " ('ion', 0.7560607194900513),\n",
       " ('streams', 0.7531970143318176)]"
      ]
     },
     "execution_count": 180,
     "metadata": {},
     "output_type": "execute_result"
    }
   ],
   "source": [
    "apsD2V.most_similar(positive = ['electron','positive'], negative = ['negative'], topn = 10)"
   ]
  },
  {
   "cell_type": "code",
   "execution_count": 181,
   "metadata": {
    "collapsed": false
   },
   "outputs": [
    {
     "data": {
      "text/plain": [
       "[('10.1103/PhysRev.100.1646', 0.682977557182312),\n",
       " ('10.1103/PhysRev.112.1429', 0.6818578243255615),\n",
       " ('10.1103/PhysRev.103.1202', 0.6766920685768127),\n",
       " ('10.1103/PhysRev.106.191', 0.675008237361908),\n",
       " ('10.1103/PhysRev.98.1584', 0.6698400974273682)]"
      ]
     },
     "execution_count": 181,
     "metadata": {},
     "output_type": "execute_result"
    }
   ],
   "source": [
    "apsD2V.docvecs.most_similar([ apsD2V['electron'] ], topn=5 )"
   ]
  },
  {
   "cell_type": "markdown",
   "metadata": {},
   "source": [
    "If we search for the first of these on the web (these are doi codes), we find the following...a pretty good match:"
   ]
  },
  {
   "cell_type": "code",
   "execution_count": 183,
   "metadata": {
    "collapsed": false
   },
   "outputs": [
    {
     "data": {
      "text/plain": [
       "[('centering', 0.8536929488182068),\n",
       " ('gyromagnetic', 0.8110805153846741),\n",
       " ('percent', 0.7564390301704407),\n",
       " ('gs', 0.7531020641326904),\n",
       " ('ratio', 0.7505196332931519)]"
      ]
     },
     "execution_count": 183,
     "metadata": {},
     "output_type": "execute_result"
    }
   ],
   "source": [
    "apsD2V.most_similar( [ apsD2V.docvecs['10.1103/PhysRev.98.875'] ], topn=5) "
   ]
  },
  {
   "cell_type": "markdown",
   "metadata": {},
   "source": [
    "# Cultural Analysis - New York Times"
   ]
  },
  {
   "cell_type": "code",
   "execution_count": 184,
   "metadata": {
    "collapsed": false
   },
   "outputs": [],
   "source": [
    "nytimes_model = gensim.models.word2vec.Word2Vec.load_word2vec_format('data/nytimes_cbow.reduced.txt')"
   ]
  },
  {
   "cell_type": "code",
   "execution_count": 185,
   "metadata": {
    "collapsed": false
   },
   "outputs": [
    {
     "data": {
      "text/plain": [
       "array([[-0.34313899, -0.117117  , -0.50773001, ..., -0.99569601,\n",
       "         0.92129898,  0.94376898],\n",
       "       [ 0.004427  , -0.57843202, -1.96249199, ..., -0.56563401,\n",
       "         0.89292699,  0.186554  ],\n",
       "       [-0.36290899, -0.26352799,  0.032661  , ..., -0.043032  ,\n",
       "        -0.178965  ,  0.35355601],\n",
       "       ..., \n",
       "       [-2.39162588, -1.90143001,  1.03118205, ...,  2.94746399,\n",
       "         1.01587999,  2.00032997],\n",
       "       [-2.43238711, -1.16141498,  1.06006396, ...,  4.40238094,\n",
       "         0.500471  ,  1.64459598],\n",
       "       [ 0.98193097,  0.62809402, -0.74754697, ...,  1.61292696,\n",
       "         1.14806294,  1.06377602]], dtype=float32)"
      ]
     },
     "execution_count": 185,
     "metadata": {},
     "output_type": "execute_result"
    }
   ],
   "source": [
    "#words to create dimensions\n",
    "tnytTargetWords = ['man','men','him','he', 'woman','women', 'her', 'she', 'Black','blacks','African','White', 'whites', 'Caucasian','European', 'rich', 'richer', 'richest', 'expensive', 'wealthy','wealth','poor', 'poorer', 'poorest', 'cheap', 'inexpensive','poverty']\n",
    "#words we will be mapping\n",
    "tnytTargetWords += [\"doctor\",\"lawyer\",\"plumber\",\"scientist\",\"hairdresser\", \"nanny\",\"carpenter\",\"entrepreneur\",\"musician\",\"writer\", \"banker\",\"poet\",\"nurse\", \"steak\", \"bacon\", \"croissant\", \"cheesecake\", \"salad\", \"cheeseburger\", \"vegetables\", \"beer\", \"wine\", \"pastry\", \"basketball\", \"baseball\", \"boxing\", \"softball\", \"volleyball\", \"tennis\", \"golf\", \"hockey\", \"soccer\"]\n",
    "\n",
    "\n",
    "wordsSubMatrix = []\n",
    "for word in tnytTargetWords:\n",
    "    wordsSubMatrix.append(nytimes_model[word])\n",
    "wordsSubMatrix = np.array(wordsSubMatrix)\n",
    "wordsSubMatrix"
   ]
  },
  {
   "cell_type": "code",
   "execution_count": 186,
   "metadata": {
    "collapsed": true
   },
   "outputs": [],
   "source": [
    "def normalize(vector):\n",
    "    normalized_vector = vector / np.linalg.norm(vector)\n",
    "    return normalized_vector\n",
    "\n",
    "def dimension(model, positives, negatives):\n",
    "    diff = sum([normalize(model[x]) for x in positives]) - sum([normalize(model[y]) for y in negatives])\n",
    "    return diff"
   ]
  },
  {
   "cell_type": "code",
   "execution_count": 187,
   "metadata": {
    "collapsed": false
   },
   "outputs": [],
   "source": [
    "def Coloring(Series):\n",
    "    x = Series.values\n",
    "    y = x-x.min()\n",
    "    z = y/y.max()\n",
    "    c = list(plt.cm.rainbow(z))\n",
    "    return c\n",
    "\n",
    "def PlotDimension(ax,df, dim):\n",
    "    ax.set_frame_on(False)\n",
    "    ax.set_title(dim, fontsize = 20)\n",
    "    colors = Coloring(df[dim])\n",
    "    for i, word in enumerate(df.index):\n",
    "        ax.annotate(word, (0, df[dim][i]), color = colors[i], alpha = 0.6, fontsize = 12)\n",
    "    MaxY = df[dim].max()\n",
    "    MinY = df[dim].min()\n",
    "    plt.ylim(MinY,MaxY)\n",
    "    plt.yticks(())\n",
    "    plt.xticks(())"
   ]
  },
  {
   "cell_type": "markdown",
   "metadata": {},
   "source": [
    "Let's calculate three dimensions: gender, race, and class."
   ]
  },
  {
   "cell_type": "code",
   "execution_count": 188,
   "metadata": {
    "collapsed": false
   },
   "outputs": [],
   "source": [
    "Gender = dimension(nytimes_model, ['man','men','him','he'], ['woman','women','her', 'she'])\n",
    "Race = dimension(nytimes_model, ['Black','blacks','African','African'], ['White', 'whites', 'Caucasian','European'])\n",
    "Class = dimension(nytimes_model, ['wealth','rich', 'richer', 'richest', 'expensive', 'wealthy'], ['poverty','poor', 'poorer', 'poorest', 'cheap', 'inexpensive'])\n",
    "Politics = dimension(nytimes_model, ['Republican','Republicans', 'Conservative', 'conservative','conservatives'], ['Democrat','Democrats','Liberal','liberal', 'liberals'])\n"
   ]
  },
  {
   "cell_type": "markdown",
   "metadata": {},
   "source": [
    "Here we have some words."
   ]
  },
  {
   "cell_type": "code",
   "execution_count": 189,
   "metadata": {
    "collapsed": true
   },
   "outputs": [],
   "source": [
    "Occupations = [\"doctor\",\"lawyer\",\"plumber\",\"scientist\",\"hairdresser\", \"nanny\",\"carpenter\",\"entrepreneur\",\"musician\",\"writer\", \"banker\",\"poet\",\"nurse\"]\n",
    "\n",
    "Foods = [\"steak\", \"bacon\", \"croissant\", \"cheesecake\", \"salad\", \"cheeseburger\", \"beer\", \"wine\", \"pastry\"]\n",
    "\n",
    "Sports  = [\"basketball\", \"baseball\", \"boxing\", \"softball\", \"volleyball\", \"tennis\", \"golf\", \"hockey\", \"soccer\"]\n",
    "\n",
    "Issues = [\"war\",\"climate\",\"taxes\",\"terrorism\",\"immigration\",\"trade\",\"budget\",\"Clinton\",\"Bush\"]"
   ]
  },
  {
   "cell_type": "code",
   "execution_count": 190,
   "metadata": {
    "collapsed": false
   },
   "outputs": [],
   "source": [
    "def makeDF(model, word_list):\n",
    "    g = []\n",
    "    r = []\n",
    "    c = []\n",
    "    p = []\n",
    "    for word in word_list:\n",
    "        g.append(sklearn.metrics.pairwise.cosine_similarity(nytimes_model[word].reshape(1,-1), Gender.reshape(1,-1))[0][0])\n",
    "        r.append(sklearn.metrics.pairwise.cosine_similarity(nytimes_model[word].reshape(1,-1), Race.reshape(1,-1))[0][0])\n",
    "        c.append(sklearn.metrics.pairwise.cosine_similarity(nytimes_model[word].reshape(1,-1), Class.reshape(1,-1))[0][0])\n",
    "        p.append(sklearn.metrics.pairwise.cosine_similarity(nytimes_model[word].reshape(1,-1), Politics.reshape(1,-1))[0][0])\n",
    "\n",
    "    df = pandas.DataFrame({'gender': g, 'race': r, 'class': c, 'politics': p}, index = word_list)\n",
    "    return df"
   ]
  },
  {
   "cell_type": "code",
   "execution_count": 192,
   "metadata": {
    "collapsed": false
   },
   "outputs": [],
   "source": [
    "OCCdf = makeDF(nytimes_model, Occupations) \n",
    "Fooddf = makeDF(nytimes_model, Foods)\n",
    "Sportsdf = makeDF(nytimes_model, Sports)\n",
    "Musicdf = makeDF(nytimes_model, Music)\n",
    "Issuesdf = makeDF(nytimes_model, Issues)"
   ]
  },
  {
   "cell_type": "markdown",
   "metadata": {},
   "source": [
    "Define some useful functions for plotting."
   ]
  },
  {
   "cell_type": "markdown",
   "metadata": {},
   "source": [
    "Plot the occupational words in each of the three dimensions."
   ]
  },
  {
   "cell_type": "code",
   "execution_count": 193,
   "metadata": {
    "collapsed": false,
    "scrolled": true
   },
   "outputs": [
    {
     "data": {
      "image/png": "[encoded data removed]",
      "text/plain": [
       "<matplotlib.figure.Figure at 0x541b8f25f8>"
      ]
     },
     "metadata": {},
     "output_type": "display_data"
    }
   ],
   "source": [
    "fig = plt.figure(figsize = (12,4))\n",
    "ax1 = fig.add_subplot(131)\n",
    "PlotDimension(ax1, OCCdf, 'gender')\n",
    "ax2 = fig.add_subplot(132)\n",
    "PlotDimension(ax2, OCCdf, 'race')\n",
    "ax3 = fig.add_subplot(133)\n",
    "PlotDimension(ax3, OCCdf, 'class')\n",
    "plt.show()"
   ]
  },
  {
   "cell_type": "markdown",
   "metadata": {},
   "source": [
    "Foods:"
   ]
  },
  {
   "cell_type": "code",
   "execution_count": 198,
   "metadata": {
    "collapsed": false
   },
   "outputs": [
    {
     "data": {
      "image/png": "[encoded data removed]",
      "text/plain": [
       "<matplotlib.figure.Figure at 0x54197606d8>"
      ]
     },
     "metadata": {},
     "output_type": "display_data"
    }
   ],
   "source": [
    "fig = plt.figure(figsize = (12,4))\n",
    "ax1 = fig.add_subplot(131)\n",
    "PlotDimension(ax1, Fooddf, 'gender')\n",
    "ax2 = fig.add_subplot(132)\n",
    "PlotDimension(ax2, Fooddf, 'class')\n",
    "ax3 = fig.add_subplot(133)\n",
    "PlotDimension(ax3, Fooddf, 'race')\n",
    "plt.show()"
   ]
  },
  {
   "cell_type": "markdown",
   "metadata": {},
   "source": [
    "Sports:"
   ]
  },
  {
   "cell_type": "code",
   "execution_count": 195,
   "metadata": {
    "collapsed": false
   },
   "outputs": [
    {
     "data": {
      "image/png": "[encoded data removed]",
      "text/plain": [
       "<matplotlib.figure.Figure at 0x541c0927f0>"
      ]
     },
     "metadata": {},
     "output_type": "display_data"
    }
   ],
   "source": [
    "fig = plt.figure(figsize = (12,4))\n",
    "ax1 = fig.add_subplot(131)\n",
    "PlotDimension(ax1, Sportsdf, 'gender')\n",
    "ax2 = fig.add_subplot(132)\n",
    "PlotDimension(ax2, Sportsdf, 'class')\n",
    "ax3 = fig.add_subplot(133)\n",
    "PlotDimension(ax3, Sportsdf, 'race')\n",
    "plt.show()"
   ]
  },
  {
   "cell_type": "code",
   "execution_count": 196,
   "metadata": {
    "collapsed": false
   },
   "outputs": [
    {
     "data": {
      "image/png": "[encoded data removed]",
      "text/plain": [
       "<matplotlib.figure.Figure at 0x5419874b70>"
      ]
     },
     "metadata": {},
     "output_type": "display_data"
    }
   ],
   "source": [
    "fig = plt.figure(figsize = (12,4))\n",
    "ax1 = fig.add_subplot(131)\n",
    "PlotDimension(ax1, Issuesdf, 'politics')\n",
    "ax2 = fig.add_subplot(132)\n",
    "PlotDimension(ax2, Issuesdf, 'gender')\n",
    "ax3 = fig.add_subplot(133)\n",
    "PlotDimension(ax3, Issuesdf, 'class')\n",
    "plt.show()"
   ]
  },
  {
   "cell_type": "code",
   "execution_count": 204,
   "metadata": {
    "collapsed": false
   },
   "outputs": [
    {
     "name": "stderr",
     "output_type": "stream",
     "text": [
      "C:\\Users\\Austin\\Documents\\ipython\\lib\\site-packages\\sklearn\\utils\\validation.py:386: DeprecationWarning: Passing 1d arrays as data is deprecated in 0.17 and willraise ValueError in 0.19. Reshape your data either using X.reshape(-1, 1) if your data has a single feature or X.reshape(1, -1) if it contains a single sample.\n",
      "  DeprecationWarning)\n",
      "C:\\Users\\Austin\\Documents\\ipython\\lib\\site-packages\\sklearn\\utils\\validation.py:386: DeprecationWarning: Passing 1d arrays as data is deprecated in 0.17 and willraise ValueError in 0.19. Reshape your data either using X.reshape(-1, 1) if your data has a single feature or X.reshape(1, -1) if it contains a single sample.\n",
      "  DeprecationWarning)\n"
     ]
    },
    {
     "data": {
      "text/plain": [
       "array([[ 0.12582172]], dtype=float32)"
      ]
     },
     "execution_count": 204,
     "metadata": {},
     "output_type": "execute_result"
    }
   ],
   "source": [
    "sklearn.metrics.pairwise.cosine_similarity(Politics,Class)"
   ]
  },
  {
   "cell_type": "code",
   "execution_count": null,
   "metadata": {
    "collapsed": true
   },
   "outputs": [],
   "source": [
    "sklearn.metrics.pairwise.cosine_similarity(Politics,Gender)"
   ]
  }
 ],
 "metadata": {
  "anaconda-cloud": {},
  "kernelspec": {
   "display_name": "Python [default]",
   "language": "python",
   "name": "python3"
  },
  "language_info": {
   "codemirror_mode": {
    "name": "ipython",
    "version": 3
   },
   "file_extension": ".py",
   "mimetype": "text/x-python",
   "name": "python",
   "nbconvert_exporter": "python",
   "pygments_lexer": "ipython3",
   "version": "3.5.2"
  }
 },
 "nbformat": 4,
 "nbformat_minor": 0
}
